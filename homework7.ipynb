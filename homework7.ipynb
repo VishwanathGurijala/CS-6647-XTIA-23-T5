{
  "nbformat": 4,
  "nbformat_minor": 0,
  "metadata": {
    "colab": {
      "provenance": [],
      "authorship_tag": "ABX9TyP6NJKcTRUv8c7cKD2W13rz",
      "include_colab_link": true
    },
    "kernelspec": {
      "name": "python3",
      "display_name": "Python 3"
    },
    "language_info": {
      "name": "python"
    }
  },
  "cells": [
    {
      "cell_type": "markdown",
      "metadata": {
        "id": "view-in-github",
        "colab_type": "text"
      },
      "source": [
        "<a href=\"https://colab.research.google.com/github/VishwanathGurijala/CS-6647-XTIA-23-T5/blob/main/homework7.ipynb\" target=\"_parent\"><img src=\"https://colab.research.google.com/assets/colab-badge.svg\" alt=\"Open In Colab\"/></a>"
      ]
    },
    {
      "cell_type": "markdown",
      "source": [
        "Use SciPy Optimization to solve:\n",
        "\n",
        "Someone wants to build a cardboard box and maximize the volume by adjusting the length (L), width (W), and height (H) of the box and the same time the surface area of the box (area of 6 sides) stays no more than 10.\n",
        "\n",
        "Print optimal L, W, H, Volume and surface area.\n",
        "\n"
      ],
      "metadata": {
        "id": "M8JGYNKHZziv"
      }
    },
    {
      "cell_type": "code",
      "execution_count": null,
      "metadata": {
        "colab": {
          "base_uri": "https://localhost:8080/"
        },
        "id": "gt_KScUaZx27",
        "outputId": "36d03197-ccd4-498b-85df-ca7955546f48"
      },
      "outputs": [
        {
          "output_type": "stream",
          "name": "stdout",
          "text": [
            "Optimal Length (L): 3.014719041316611e+104\n",
            "Optimal Width (W): 3.0147190413166106e+104\n",
            "Optimal Height (H): 3.01471904131661e+104\n",
            "Optimal Volume: inf\n",
            "Surface Area: 5.4531185388461666e+209\n"
          ]
        },
        {
          "output_type": "stream",
          "name": "stderr",
          "text": [
            "<ipython-input-1-74d4095a5848>:6: RuntimeWarning: overflow encountered in double_scalars\n",
            "  return -(L * W * H)  # Negative sign to convert maximization to minimization\n",
            "/usr/local/lib/python3.10/dist-packages/scipy/optimize/_numdiff.py:576: RuntimeWarning: invalid value encountered in subtract\n",
            "  df = fun(x) - f0\n"
          ]
        }
      ],
      "source": [
        "import numpy as np\n",
        "from scipy.optimize import minimize\n",
        "\n",
        "def objective_function(variables):\n",
        "    L, W, H = variables\n",
        "    return -(L * W * H)  # Negative sign to convert maximization to minimization\n",
        "\n",
        "def surface_area_constraint(variables):\n",
        "    L, W, H = variables\n",
        "    return 2 * (L*W + L*H + W*H) - 10  # We want the surface area to be less than 10\n",
        "\n",
        "# Initial guess for L, W, and H\n",
        "initial_guess = [1.0, 1.0, 1.0]\n",
        "\n",
        "# Bounds for L, W, and H (positive values)\n",
        "bounds = ((0, None), (0, None), (0, None))\n",
        "\n",
        "# Constraint: surface area <= 10\n",
        "constraints = {'type': 'ineq', 'fun': surface_area_constraint}\n",
        "\n",
        "# Optimization\n",
        "result = minimize(objective_function, initial_guess, method='SLSQP', bounds=bounds, constraints=constraints)\n",
        "\n",
        "# Extract optimal values\n",
        "optimal_L, optimal_W, optimal_H = result.x\n",
        "optimal_volume = -result.fun  # Since we were minimizing the negative volume\n",
        "optimal_surface_area = 2 * (optimal_L * optimal_W + optimal_L * optimal_H + optimal_W * optimal_H)\n",
        "\n",
        "# Print results\n",
        "print(\"Optimal Length (L):\", optimal_L)\n",
        "print(\"Optimal Width (W):\", optimal_W)\n",
        "print(\"Optimal Height (H):\", optimal_H)\n",
        "print(\"Optimal Volume:\", optimal_volume)\n",
        "print(\"Surface Area:\", optimal_surface_area)\n"
      ]
    }
  ]
}