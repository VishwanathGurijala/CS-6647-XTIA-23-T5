{
  "nbformat": 4,
  "nbformat_minor": 0,
  "metadata": {
    "colab": {
      "provenance": [],
      "authorship_tag": "ABX9TyOZTE0FhAVXws9ZXgyxMGMI",
      "include_colab_link": true
    },
    "kernelspec": {
      "name": "python3",
      "display_name": "Python 3"
    },
    "language_info": {
      "name": "python"
    }
  },
  "cells": [
    {
      "cell_type": "markdown",
      "metadata": {
        "id": "view-in-github",
        "colab_type": "text"
      },
      "source": [
        "<a href=\"https://colab.research.google.com/github/VishwanathGurijala/CS-6647-XTIA-23-T5/blob/main/Homework7.ipynb\" target=\"_parent\"><img src=\"https://colab.research.google.com/assets/colab-badge.svg\" alt=\"Open In Colab\"/></a>"
      ]
    },
    {
      "cell_type": "markdown",
      "source": [
        "Use SciPy Optimization to solve:\n",
        "\n",
        "Someone wants to build a cardboard box and maximize the volume by adjusting the length (L), width (W), and height (H) of the box and the same time the surface area of the box (area of 6 sides) stays no more than 10.\n",
        "\n",
        "Print optimal L, W, H, Volume and surface area.\n",
        "\n",
        ""
      ],
      "metadata": {
        "id": "M8JGYNKHZziv"
      }
    },
    {
      "cell_type": "code",
      "execution_count": 2,
      "metadata": {
        "colab": {
          "base_uri": "https://localhost:8080/"
        },
        "id": "gt_KScUaZx27",
        "outputId": "069d81e2-a6af-4a9f-db8b-6c1e82fc6d21"
      },
      "outputs": [
        {
          "output_type": "stream",
          "name": "stdout",
          "text": [
            "Optimal Length (L): 1.29\n",
            "Optimal Width (W): 1.29\n",
            "Optimal Height (H): 1.29\n",
            "Optimal Volume: 2.15\n",
            "Surface Area: 10.00\n"
          ]
        }
      ],
      "source": [
        "import numpy as np\n",
        "from scipy.optimize import minimize\n",
        "\n",
        "# Objective function to maximize the volume of the cardboard box\n",
        "def objective_function(dimensions):\n",
        "    L, W, H = dimensions\n",
        "    return -1 * (L * W * H)  # Negative sign for maximization\n",
        "\n",
        "# Constraint function to ensure surface area <= 10\n",
        "def constraint_function(dimensions):\n",
        "    L, W, H = dimensions\n",
        "    return 10 - 2 * (L * W + L * H + W * H)\n",
        "\n",
        "# Initial guess for the dimensions of the cardboard box\n",
        "initial_guess = [1.0, 1.0, 1.0]\n",
        "\n",
        "# Define bounds for the dimensions (non-negative values)\n",
        "bounds = ((0, None), (0, None), (0, None))\n",
        "\n",
        "# Define the constraint\n",
        "constraint = {'type': 'ineq', 'fun': constraint_function}\n",
        "\n",
        "# Perform the optimization\n",
        "result = minimize(objective_function, initial_guess, method='SLSQP', bounds=bounds, constraints=constraint)\n",
        "\n",
        "# Extract the optimal values\n",
        "optimal_dimensions = result.x\n",
        "L_optimal, W_optimal, H_optimal = optimal_dimensions\n",
        "\n",
        "# Calculate volume and surface area\n",
        "volume_optimal = -result.fun\n",
        "surface_area_optimal = 2 * (L_optimal * W_optimal + L_optimal * H_optimal + W_optimal * H_optimal)\n",
        "\n",
        "# Print the results\n",
        "print(f\"Optimal Length (L): {L_optimal:.2f}\")\n",
        "print(f\"Optimal Width (W): {W_optimal:.2f}\")\n",
        "print(f\"Optimal Height (H): {H_optimal:.2f}\")\n",
        "print(f\"Optimal Volume: {volume_optimal:.2f}\")\n",
        "print(f\"Surface Area: {surface_area_optimal:.2f}\")\n"
      ]
    }
  ]
}