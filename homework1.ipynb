{
  "nbformat": 4,
  "nbformat_minor": 0,
  "metadata": {
    "colab": {
      "provenance": [],
      "include_colab_link": true
    },
    "kernelspec": {
      "name": "python3",
      "display_name": "Python 3"
    },
    "language_info": {
      "name": "python"
    }
  },
  "cells": [
    {
      "cell_type": "markdown",
      "metadata": {
        "id": "view-in-github",
        "colab_type": "text"
      },
      "source": [
        "<a href=\"https://colab.research.google.com/github/VishwanathGurijala/CS-6647-XTIA-23-T5/blob/main/homework1.ipynb\" target=\"_parent\"><img src=\"https://colab.research.google.com/assets/colab-badge.svg\" alt=\"Open In Colab\"/></a>"
      ]
    },
    {
      "cell_type": "markdown",
      "source": [
        "##**Use sympy to solve the following questions**\n",
        "**1. Solve the quadratic function $x^2+2x-8=0$**"
      ],
      "metadata": {
        "id": "MZjBN_HdrL3w"
      }
    },
    {
      "cell_type": "code",
      "source": [
        "import sympy as sp\n",
        "\n",
        "# Define the variable\n",
        "x = sp.Symbol('x')\n",
        "\n",
        "# Define the equation\n",
        "equation = x**2 + 2*x - 8\n",
        "\n",
        "# Solve the equation\n",
        "solutions = sp.solve(equation, x)\n",
        "\n",
        "# Print the solutions\n",
        "for solution in solutions:\n",
        "    print(solution)\n"
      ],
      "metadata": {
        "id": "deEemH-qrnCG",
        "colab": {
          "base_uri": "https://localhost:8080/"
        },
        "outputId": "99c265f0-7bfd-4800-9811-19306973acac"
      },
      "execution_count": 10,
      "outputs": [
        {
          "output_type": "stream",
          "name": "stdout",
          "text": [
            "-4\n",
            "2\n"
          ]
        }
      ]
    },
    {
      "cell_type": "markdown",
      "source": [
        "**2. What is the function f(x) which is equal to its\n",
        "derivative?**"
      ],
      "metadata": {
        "id": "osWHgKk5t9MA"
      }
    },
    {
      "cell_type": "code",
      "source": [
        "import sympy as sp\n",
        "\n",
        "# Define the variable\n",
        "x = sp.Symbol('x')\n",
        "\n",
        "# Define the function\n",
        "f = sp.exp(x)\n",
        "\n",
        "# Compute the derivative\n",
        "f_derivative = sp.diff(f, x)\n",
        "\n",
        "# Verify that the function is equal to its derivative\n",
        "is_equal = sp.simplify(f - f_derivative) == 0\n",
        "\n",
        "print(f)\n",
        "print(f_derivative)\n",
        "print(is_equal)\n"
      ],
      "metadata": {
        "id": "MR8ijByJroeV",
        "colab": {
          "base_uri": "https://localhost:8080/"
        },
        "outputId": "b16191c1-b3a0-42bf-8e90-121602545fe2"
      },
      "execution_count": 11,
      "outputs": [
        {
          "output_type": "stream",
          "name": "stdout",
          "text": [
            "exp(x)\n",
            "exp(x)\n",
            "True\n"
          ]
        }
      ]
    },
    {
      "cell_type": "markdown",
      "source": [
        "**3. Compute the area under $f(x)=x^3$ from x=0 to x=1**"
      ],
      "metadata": {
        "id": "P2b7XyAD5qf1"
      }
    },
    {
      "cell_type": "code",
      "source": [
        "import sympy as sp\n",
        "\n",
        "# Define the variable\n",
        "x = sp.Symbol('x')\n",
        "\n",
        "# Define the function\n",
        "f = x**3\n",
        "\n",
        "# Compute the definite integral\n",
        "area = sp.integrate(f, (x, 0, 1))\n",
        "\n",
        "print(area)\n"
      ],
      "metadata": {
        "id": "W1MNf_ptrqOK",
        "colab": {
          "base_uri": "https://localhost:8080/"
        },
        "outputId": "487fd9ef-9251-4a86-ac0c-82a1446b249d"
      },
      "execution_count": 12,
      "outputs": [
        {
          "output_type": "stream",
          "name": "stdout",
          "text": [
            "1/4\n"
          ]
        }
      ]
    },
    {
      "cell_type": "markdown",
      "source": [
        "**4. Calculate $\\displaystyle\\sum\\limits_{x=0}^\\infty \\left(\\frac{1}{x!}\\right)$**"
      ],
      "metadata": {
        "id": "X0WDytOW_0Ds"
      }
    },
    {
      "cell_type": "code",
      "source": [
        "import sympy as sp\n",
        "\n",
        "# Define the variable\n",
        "x = sp.Symbol('x')\n",
        "\n",
        "# Define the term of the series\n",
        "term = 1 / sp.factorial(x)\n",
        "\n",
        "# Compute the infinite sum\n",
        "series_sum = sp.summation(term, (x, 0, sp.oo))\n",
        "\n",
        "print(series_sum)\n"
      ],
      "metadata": {
        "id": "9j3BL9Tbrrhw",
        "colab": {
          "base_uri": "https://localhost:8080/"
        },
        "outputId": "4e075a81-eaaa-45e0-d003-edadcd0ff2ef"
      },
      "execution_count": 13,
      "outputs": [
        {
          "output_type": "stream",
          "name": "stdout",
          "text": [
            "E\n"
          ]
        }
      ]
    },
    {
      "cell_type": "markdown",
      "source": [
        "**5. Calculate $\\lim_{n \\rightarrow \\infty}(1+\\frac{1}{n})^n$**"
      ],
      "metadata": {
        "id": "GX1ZPTnTCtrV"
      }
    },
    {
      "cell_type": "code",
      "source": [
        "import sympy as sp\n",
        "\n",
        "# Define the variable\n",
        "n = sp.Symbol('n')\n",
        "\n",
        "# Define the expression\n",
        "expression = (1 + 1/n)**n\n",
        "\n",
        "# Compute the limit\n",
        "limit = sp.limit(expression, n, sp.oo)\n",
        "\n",
        "print(limit)\n"
      ],
      "metadata": {
        "id": "9RuIX--BrwG_",
        "colab": {
          "base_uri": "https://localhost:8080/"
        },
        "outputId": "ecd44a36-a5e4-44e4-d0e6-4f5355bc1a8a"
      },
      "execution_count": 14,
      "outputs": [
        {
          "output_type": "stream",
          "name": "stdout",
          "text": [
            "E\n"
          ]
        }
      ]
    },
    {
      "cell_type": "markdown",
      "source": [
        "**6. flips the matrix through its diagonal $\\begin{bmatrix}2&-3&-8&7 \\\\-2&-1&2&-7\\\\ 1&0&-3&6 \\end{bmatrix}$**"
      ],
      "metadata": {
        "id": "PJ_WIHAZE9P2"
      }
    },
    {
      "cell_type": "code",
      "source": [
        "import numpy as np\n",
        "\n",
        "matrix = np.array([[2, -3, -8, 7], [-2, -1, 2, -7], [1, 0, -3, 6]])\n",
        "\n",
        "# Flip the matrix through its diagonal\n",
        "flipped_matrix = np.transpose(matrix)\n",
        "\n",
        "print(flipped_matrix)\n"
      ],
      "metadata": {
        "id": "DjIgeasrrw1d",
        "colab": {
          "base_uri": "https://localhost:8080/"
        },
        "outputId": "24cccf4b-1615-44ec-b262-0592a8ac9a36"
      },
      "execution_count": 15,
      "outputs": [
        {
          "output_type": "stream",
          "name": "stdout",
          "text": [
            "[[ 2 -2  1]\n",
            " [-3 -1  0]\n",
            " [-8  2 -3]\n",
            " [ 7 -7  6]]\n"
          ]
        }
      ]
    },
    {
      "cell_type": "markdown",
      "source": [
        "**7. Row operations: We know the following matrix**"
      ],
      "metadata": {
        "id": "rLTC_3INOPdj"
      }
    },
    {
      "cell_type": "code",
      "source": [
        "import numpy as np\n",
        "\n",
        "# Create the identity matrix\n",
        "M = np.eye(3)\n",
        "\n",
        "print(M)\n"
      ],
      "metadata": {
        "colab": {
          "base_uri": "https://localhost:8080/"
        },
        "id": "iWzjfQn0Ox_a",
        "outputId": "1cba83e6-3e65-48d6-a3d4-b583da0d7b78"
      },
      "execution_count": 16,
      "outputs": [
        {
          "output_type": "stream",
          "name": "stdout",
          "text": [
            "[[1. 0. 0.]\n",
            " [0. 1. 0.]\n",
            " [0. 0. 1.]]\n"
          ]
        }
      ]
    },
    {
      "cell_type": "markdown",
      "source": [
        "**Do matrix row operations to R2 ← R2 + 3R1. (update Row 2 to R2+3*R1). Print the matrix**"
      ],
      "metadata": {
        "id": "v8pI_LiDjkBj"
      }
    },
    {
      "cell_type": "code",
      "source": [
        "import numpy as np\n",
        "\n",
        "# Create the identity matrix\n",
        "M = np.eye(3)\n",
        "\n",
        "# Perform the row operation R2 ← R2 + 3R1\n",
        "M[1] = M[1] + 3 * M[0]\n",
        "\n",
        "print(M)\n"
      ],
      "metadata": {
        "id": "WpVLzCfHrzd5",
        "colab": {
          "base_uri": "https://localhost:8080/"
        },
        "outputId": "9c4c7069-2457-4e7d-a8be-960b6def1c57"
      },
      "execution_count": 17,
      "outputs": [
        {
          "output_type": "stream",
          "name": "stdout",
          "text": [
            "[[1. 0. 0.]\n",
            " [3. 1. 0.]\n",
            " [0. 0. 1.]]\n"
          ]
        }
      ]
    },
    {
      "cell_type": "markdown",
      "source": [
        "**8.Find determinant of M**"
      ],
      "metadata": {
        "id": "lStKMbpWkZky"
      }
    },
    {
      "cell_type": "code",
      "source": [
        "import numpy as np\n",
        "\n",
        "# Define the matrix M\n",
        "M = np.eye(3)\n",
        "\n",
        "# Calculate the determinant\n",
        "determinant = np.linalg.det(M)\n",
        "\n",
        "print(determinant)\n"
      ],
      "metadata": {
        "id": "klYDCja9r1N3",
        "colab": {
          "base_uri": "https://localhost:8080/"
        },
        "outputId": "28ad3168-c6cc-4038-8760-b4d2699c32ca"
      },
      "execution_count": 18,
      "outputs": [
        {
          "output_type": "stream",
          "name": "stdout",
          "text": [
            "1.0\n"
          ]
        }
      ]
    },
    {
      "cell_type": "markdown",
      "source": [
        "**9.Find the following matrix's eigenvalue and eigen vector**"
      ],
      "metadata": {
        "id": "qaXra9fNlSDu"
      }
    },
    {
      "cell_type": "code",
      "source": [
        "import numpy as np\n",
        "\n",
        "# Define the matrix M\n",
        "M = np.array([[9, -2], [-2, 6]])\n",
        "\n",
        "# Find the eigenvalues and eigenvectors\n",
        "eigenvalues, eigenvectors = np.linalg.eig(M)\n",
        "\n",
        "print(\"Eigenvalues:\", eigenvalues)\n",
        "print(\"Eigenvectors:\")\n",
        "for i in range(len(eigenvalues)):\n",
        "    eigenvector = eigenvectors[:, i]\n",
        "    print(\"Eigenvalue:\", eigenvalues[i])\n",
        "    print(\"Eigenvector:\")\n",
        "    print(eigenvector)\n",
        "    print()\n"
      ],
      "metadata": {
        "id": "W8cpvW7lljCv",
        "colab": {
          "base_uri": "https://localhost:8080/"
        },
        "outputId": "aeba951b-08a7-456f-9619-0c647ee53e56"
      },
      "execution_count": 20,
      "outputs": [
        {
          "output_type": "stream",
          "name": "stdout",
          "text": [
            "Eigenvalues: [10.  5.]\n",
            "Eigenvectors:\n",
            "Eigenvalue: 10.0\n",
            "Eigenvector:\n",
            "[ 0.89442719 -0.4472136 ]\n",
            "\n",
            "Eigenvalue: 5.0\n",
            "Eigenvector:\n",
            "[0.4472136  0.89442719]\n",
            "\n"
          ]
        }
      ]
    },
    {
      "cell_type": "code",
      "source": [
        "import sympy as sp\n",
        "\n",
        "# Define the matrix M\n",
        "M = sp.Matrix([[9, -2], [-2, 6]])\n",
        "\n",
        "# Find the eigenvalues and eigenvectors\n",
        "eigenvalues = M.eigenvals()\n",
        "eigenvectors = M.eigenvects()\n",
        "\n",
        "print(\"Eigenvalues:\", eigenvalues)\n",
        "print(\"Eigenvectors:\")\n",
        "for eigenvector in eigenvectors:\n",
        "    eigenvalue = eigenvector[0]\n",
        "    multiplicity = eigenvector[1]\n",
        "    vectors = eigenvector[2]\n",
        "    print(\"Eigenvalue:\", eigenvalue)\n",
        "    print(\"Multiplicity:\", multiplicity)\n",
        "    print(\"Eigenvectors:\")\n",
        "    for vector in vectors:\n",
        "        print(vector)\n",
        "    print()\n"
      ],
      "metadata": {
        "colab": {
          "base_uri": "https://localhost:8080/"
        },
        "id": "AxUCQZnUWA75",
        "outputId": "1c279928-c4ac-4bc6-ec04-decd377e0297"
      },
      "execution_count": 21,
      "outputs": [
        {
          "output_type": "stream",
          "name": "stdout",
          "text": [
            "Eigenvalues: {10: 1, 5: 1}\n",
            "Eigenvectors:\n",
            "Eigenvalue: 5\n",
            "Multiplicity: 1\n",
            "Eigenvectors:\n",
            "Matrix([[1/2], [1]])\n",
            "\n",
            "Eigenvalue: 10\n",
            "Multiplicity: 1\n",
            "Eigenvectors:\n",
            "Matrix([[-2], [1]])\n",
            "\n"
          ]
        }
      ]
    },
    {
      "cell_type": "markdown",
      "source": [
        "**10. Implement the Predator-prey model in python**\n",
        "\n",
        "Suppose fish starts at 10 hundreds, bears starts at 1 hundred\n",
        "\n",
        "alpha = 1.1\n",
        "\n",
        "beta = 0.4\n",
        "\n",
        "delta = 0.1\n",
        "\n",
        "gamma = 0.4\n",
        "\n",
        "draw the plots(bear-time, fish-time)\n",
        "\n",
        "t = np.linspace(0,50,num=1000)\n"
      ],
      "metadata": {
        "id": "T0NeZ4Hwo1Uy"
      }
    },
    {
      "cell_type": "code",
      "source": [
        "import numpy as np\n",
        "import matplotlib.pyplot as plt\n",
        "from scipy.integrate import solve_ivp\n",
        "\n",
        "# Define the predator-prey model\n",
        "def predator_prey_model(t, y, alpha, beta, delta, gamma):\n",
        "    x, y = y\n",
        "    dx_dt = alpha * x - beta * x * y\n",
        "    dy_dt = delta * x * y - gamma * y\n",
        "    return [dx_dt, dy_dt]\n",
        "\n",
        "# Set the initial conditions and parameters\n",
        "initial_conditions = [10, 1]  # [fish population, bear population]\n",
        "alpha = 1.1\n",
        "beta = 0.4\n",
        "delta = 0.1\n",
        "gamma = 0.4\n",
        "\n",
        "# Define the time span\n",
        "t = np.linspace(0, 50, num=1000)\n",
        "\n",
        "# Solve the system of differential equations\n",
        "solution = solve_ivp(\n",
        "    lambda t, y: predator_prey_model(t, y, alpha, beta, delta, gamma),\n",
        "    [t[0], t[-1]],\n",
        "    initial_conditions,\n",
        "    t_eval=t\n",
        ")\n",
        "\n",
        "# Extract the bear and fish populations from the solution\n",
        "fish_population = solution.y[0]\n",
        "bear_population = solution.y[1]\n",
        "\n",
        "# Plot the bear and fish populations over time\n",
        "plt.plot(t, bear_population, label='Bear')\n",
        "plt.plot(t, fish_population, label='Fish')\n",
        "plt.xlabel('Time')\n",
        "plt.ylabel('Population')\n",
        "plt.legend()\n",
        "plt.title('Predator-Prey Model: Bear and Fish Populations over Time')\n",
        "plt.grid(True)\n",
        "plt.show()\n"
      ],
      "metadata": {
        "colab": {
          "base_uri": "https://localhost:8080/",
          "height": 472
        },
        "id": "gVCxMu5xW1uP",
        "outputId": "fd228f55-71dc-4e50-a6d8-d934c5ddc164"
      },
      "execution_count": 22,
      "outputs": [
        {
          "output_type": "display_data",
          "data": {
            "text/plain": [
              "<Figure size 640x480 with 1 Axes>"
            ],
            "image/png": "[encoded data removed]"
          },
          "metadata": {}
        }
      ]
    }
  ]
}