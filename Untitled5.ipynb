{
  "nbformat": 4,
  "nbformat_minor": 0,
  "metadata": {
    "colab": {
      "provenance": [],
      "authorship_tag": "ABX9TyMla7IyynUjful5FK6Lagfq",
      "include_colab_link": true
    },
    "kernelspec": {
      "name": "python3",
      "display_name": "Python 3"
    },
    "language_info": {
      "name": "python"
    }
  },
  "cells": [
    {
      "cell_type": "markdown",
      "metadata": {
        "id": "view-in-github",
        "colab_type": "text"
      },
      "source": [
        "<a href=\"https://colab.research.google.com/github/VishwanathGurijala/CS-6647-XTIA-23-T5/blob/main/Untitled5.ipynb\" target=\"_parent\"><img src=\"https://colab.research.google.com/assets/colab-badge.svg\" alt=\"Open In Colab\"/></a>"
      ]
    },
    {
      "cell_type": "code",
      "execution_count": null,
      "metadata": {
        "id": "C8JL_3YRAzHH"
      },
      "outputs": [],
      "source": []
    },
    {
      "cell_type": "markdown",
      "source": [
        "Suppose you have three bills. Two are $10 bills and the other one is a $100 bill. Your friend puts each bill in a box. So one box has $100, and the other two boxes have $10 each. You pick a box, let's say box 1, then your friend who knows what's inside the boxes, opens another box, say box 3, which has a $10 bill. Do you want to stick your choice or switch to another box in order to get the $100 bill?  ( if the 100 is inside box 2 the friend must open box 3, but if the 100 is inside box 1 the friend can open either box 2 or 3.)"
      ],
      "metadata": {
        "id": "leUGVa5OAzoR"
      }
    },
    {
      "cell_type": "code",
      "source": [
        "import random\n",
        "import matplotlib.pyplot as plt\n",
        "\n",
        "def simulate_game(switch):\n",
        "    boxes = ['box1', 'box2', 'box3']\n",
        "    random.shuffle(boxes)  # Shuffling\n",
        "    chosen_box = boxes.pop(random.randint(0, 2))  # Choose a random box\n",
        "    if chosen_box == 'box1':\n",
        "        # If the chosen is box1, the friend can open either box2 or box3\n",
        "        boxes.remove(random.choice(['box2', 'box3']))\n",
        "    elif chosen_box == 'box2':\n",
        "        boxes.remove('box3')\n",
        "    else:\n",
        "        boxes.remove('box2')\n",
        "    if switch:\n",
        "        chosen_box = boxes[0]\n",
        "    return chosen_box == 'box1'\n",
        "\n",
        "simulations = 500000  # Number of simulations (Monte Carlo)\n",
        "\n",
        "stick_wins = 0\n",
        "switch_wins = 0\n",
        "\n",
        "for _ in range(simulations):\n",
        "    if simulate_game(switch=False):\n",
        "        stick_wins += 1\n",
        "    if simulate_game(switch=True):\n",
        "        switch_wins += 1\n",
        "\n",
        "stick_p = stick_wins / simulations\n",
        "switch_p = switch_wins / simulations\n",
        "\n",
        "labels = ['Stick', 'Switch']\n",
        "probabilities = [stick_p, switch_p]\n",
        "\n",
        "plt.bar(labels, probabilities)\n",
        "plt.xlabel('Strategy')\n",
        "plt.ylabel('Probability of Winning')\n",
        "plt.title('Monte Carlo Simulation Results')\n",
        "plt.ylim([0, 1])\n",
        "plt.show()\n",
        "\n",
        "print(\"Stick Probability:\", stick_p)\n",
        "print(\"Switch Probability:\", switch_p)\n"
      ],
      "metadata": {
        "colab": {
          "base_uri": "https://localhost:8080/",
          "height": 507
        },
        "id": "O-ZQdsW-A1Th",
        "outputId": "60c9a67e-0b5a-49db-c9cb-5e07cea8d5e1"
      },
      "execution_count": 3,
      "outputs": [
        {
          "output_type": "display_data",
          "data": {
            "text/plain": [
              "<Figure size 640x480 with 1 Axes>"
            ],
            "image/png": "[encoded data removed]"
          },
          "metadata": {}
        },
        {
          "output_type": "stream",
          "name": "stdout",
          "text": [
            "Stick Probability: 0.332724\n",
            "Switch Probability: 0.665882\n"
          ]
        }
      ]
    },
    {
      "cell_type": "markdown",
      "source": [
        "Use the Monte Carlo method to get integral for ∫[0, 1] x * cos(71x) + sin(13x)) dx"
      ],
      "metadata": {
        "id": "nS_tugE4BGBk"
      }
    },
    {
      "cell_type": "code",
      "source": [
        "import random\n",
        "import math\n",
        "\n",
        "def f(x):\n",
        "    return x * math.cos(71 * x) + math.sin(13 * x)\n",
        "\n",
        "def monte_carlo_integration(num_samples):\n",
        "    total = 0.0\n",
        "    for _ in range(num_samples):\n",
        "        x = random.uniform(0, 1)\n",
        "        total += f(x)\n",
        "    avg = total / num_samples\n",
        "    integral = avg\n",
        "    return integral\n",
        "\n",
        "# Monte Carlo integration\n",
        "num_samples = 1000000\n",
        "approx_integral = monte_carlo_integration(num_samples)\n",
        "print(f\"Approximate integral using Monte Carlo: {approx_integral:.2f}\")\n"
      ],
      "metadata": {
        "colab": {
          "base_uri": "https://localhost:8080/"
        },
        "id": "KzllFWZ-BZxl",
        "outputId": "8828748c-cc7d-4098-e339-3e1a37246109"
      },
      "execution_count": 2,
      "outputs": [
        {
          "output_type": "stream",
          "name": "stdout",
          "text": [
            "Approximate integral using Monte Carlo: 0.02\n"
          ]
        }
      ]
    }
  ]
}