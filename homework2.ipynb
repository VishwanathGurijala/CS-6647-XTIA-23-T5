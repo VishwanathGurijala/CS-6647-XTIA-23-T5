{
  "nbformat": 4,
  "nbformat_minor": 0,
  "metadata": {
    "colab": {
      "provenance": [],
      "include_colab_link": true
    },
    "kernelspec": {
      "name": "python3",
      "display_name": "Python 3.9.5 64-bit"
    },
    "language_info": {
      "name": "python",
      "version": "3.9.5",
      "mimetype": "text/x-python",
      "codemirror_mode": {
        "name": "ipython",
        "version": 3
      },
      "pygments_lexer": "ipython3",
      "nbconvert_exporter": "python",
      "file_extension": ".py"
    },
    "interpreter": {
      "hash": "c98e05168fa63a48dbdd2a4274fef77cd63f6368d59e4488c10e2ff7243bb6c6"
    }
  },
  "cells": [
    {
      "cell_type": "markdown",
      "metadata": {
        "id": "view-in-github",
        "colab_type": "text"
      },
      "source": [
        "<a href=\"https://colab.research.google.com/github/VishwanathGurijala/CS-6647-XTIA-23-T5/blob/main/homework2.ipynb\" target=\"_parent\"><img src=\"https://colab.research.google.com/assets/colab-badge.svg\" alt=\"Open In Colab\"/></a>"
      ]
    },
    {
      "cell_type": "markdown",
      "source": [
        "\n",
        "1. Use for loop to generate 3 random integers between 100 and 999 which is divisible by 5. \n",
        "\n"
      ],
      "metadata": {
        "id": "nF0Ps19ADEAg"
      }
    },
    {
      "cell_type": "code",
      "execution_count": 1,
      "source": [
        "import random\n",
        "\n",
        "div_5 = []\n",
        "\n",
        "for i in range(3):\n",
        "    while True:\n",
        "        number = random.randint(100, 999)  \n",
        "        if number % 5 == 0:  \n",
        "            div_5.append(number) \n",
        "            break \n",
        "\n",
        "print(div_5)\n"
      ],
      "outputs": [
        {
          "output_type": "stream",
          "name": "stdout",
          "text": [
            "[980, 670, 330]\n"
          ]
        }
      ],
      "metadata": {
        "colab": {
          "base_uri": "https://localhost:8080/"
        },
        "id": "TioIKiMBDPGR",
        "outputId": "10a745a6-9926-4cde-e1c3-cd2d00d7b83f"
      }
    },
    {
      "cell_type": "markdown",
      "source": [
        "2.The Logistic distribution is used in Extreme Value problems where it can act as a mixture of Gumbel distributions. Draw samples from a logistic distribution and plot it. loc=10, scale=1 and size =1000. "
      ],
      "metadata": {
        "id": "hyXLw2juDQBR"
      }
    },
    {
      "cell_type": "code",
      "execution_count": 2,
      "source": [
        "import numpy as np\n",
        "import matplotlib.pyplot as plt\n",
        "\n",
        "\n",
        "loc = 10\n",
        "scale = 1\n",
        "size = 1000\n",
        "\n",
        "\n",
        "samples = np.random.logistic(loc=loc, scale=scale, size=size)\n",
        "\n",
        "plt.hist(samples, bins=25, density=True, edgecolor='blue')\n",
        "plt.xlabel('Value')\n",
        "plt.ylabel('Frequency')\n",
        "plt.title('Samples of Logistic Distribution')\n",
        "plt.show()\n"
      ],
      "outputs": [
        {
          "output_type": "display_data",
          "data": {
            "text/plain": [
              "<Figure size 640x480 with 1 Axes>"
            ],
            "image/png": "[encoded data removed]"
          },
          "metadata": {}
        }
      ],
      "metadata": {
        "colab": {
          "base_uri": "https://localhost:8080/",
          "height": 472
        },
        "id": "t2yhyP6RDXMI",
        "outputId": "e4b743ab-1251-4212-933e-f0af0303db39"
      }
    },
    {
      "cell_type": "markdown",
      "source": [],
      "metadata": {
        "id": "6itPhI4SFJUb"
      }
    },
    {
      "cell_type": "markdown",
      "source": [
        "3.\tGenerate 6 digit random secure OTP."
      ],
      "metadata": {
        "id": "0jAtQnvcFn1g"
      }
    },
    {
      "cell_type": "code",
      "execution_count": 3,
      "source": [
        "import secrets \n",
        "\n",
        "otp = secrets.randbelow(900000) + 100000 \n",
        "\n",
        "print(otp)\n"
      ],
      "outputs": [
        {
          "output_type": "stream",
          "name": "stdout",
          "text": [
            "992682\n"
          ]
        }
      ],
      "metadata": {
        "colab": {
          "base_uri": "https://localhost:8080/"
        },
        "id": "8pnAxvQyGLN7",
        "outputId": "4cd65a0e-3f24-4c6c-a3aa-5ae101ef514f"
      }
    },
    {
      "cell_type": "markdown",
      "source": [
        "4.\tPick a random character from a given string such as \"Simulation and modeling\""
      ],
      "metadata": {
        "id": "sRajmF4JGc9C"
      }
    },
    {
      "cell_type": "code",
      "execution_count": 7,
      "source": [
        "import random\n",
        "\n",
        "string = \"Simulation and modeling\"\n",
        "\n",
        "random_char = random.choice(string)\n",
        "\n",
        "print(\" random character =\" ,random_char)\n"
      ],
      "outputs": [
        {
          "output_type": "stream",
          "name": "stdout",
          "text": [
            " random character = l\n"
          ]
        }
      ],
      "metadata": {
        "colab": {
          "base_uri": "https://localhost:8080/"
        },
        "id": "7dquFCrHGeGx",
        "outputId": "1f571e9a-8342-4d7d-c5fd-b474eacb67aa"
      }
    },
    {
      "cell_type": "markdown",
      "source": [
        "5. Import string and random module. Generate a string with 5 characters with UPPER case and lower case letters only. No numbers and a special symbol."
      ],
      "metadata": {
        "id": "LWo72SxJGxOd"
      }
    },
    {
      "cell_type": "code",
      "execution_count": 8,
      "source": [
        "import string\n",
        "import random\n",
        "\n",
        "char = string.ascii_letters  \n",
        "\n",
        "random_string = ''.join(random.choice(char) for i in range(5)) \n",
        "\n",
        "print(\"random string generated =\",random_string)\n"
      ],
      "outputs": [
        {
          "output_type": "stream",
          "name": "stdout",
          "text": [
            "random string generated = tlCAo\n"
          ]
        }
      ],
      "metadata": {
        "colab": {
          "base_uri": "https://localhost:8080/"
        },
        "id": "rf1xMCM8HPhw",
        "outputId": "5a30f113-2696-4c49-bedf-12fa05820798"
      }
    },
    {
      "cell_type": "markdown",
      "source": [
        "6. Import string and random module. Generate a Password with length 10 which contains 2 upper case letters, 1 digit, and 1 special symbol. "
      ],
      "metadata": {
        "id": "7yXtRN6WHYiu"
      }
    },
    {
      "cell_type": "code",
      "execution_count": null,
      "source": [
        "import string\n",
        "import random\n",
        "\n",
        "uppercase = string.ascii_uppercase\n",
        "digits = string.digits\n",
        "special = string.punctuation\n",
        "\n",
        "all_characters = uppercase + digits + special\n",
        "\n",
        "\n",
        "password = random.sample(uppercase, 2) + random.sample(digits, 1) + random.sample(special, 1) \n",
        "password += random.sample(all_characters, 6)\n",
        "random.shuffle(password)\n",
        "password = ''.join(password)\n",
        "\n",
        "print(\"Password =\",password)\n"
      ],
      "outputs": [
        {
          "output_type": "stream",
          "name": "stdout",
          "text": [
            "Password = C2];^JP-[$\n"
          ]
        }
      ],
      "metadata": {
        "colab": {
          "base_uri": "https://localhost:8080/"
        },
        "id": "-3L50bqjHsKO",
        "outputId": "019b03bb-33df-43be-8d3f-ea4ac02e5776"
      }
    },
    {
      "cell_type": "markdown",
      "source": [
        "7. First generate evenly spaced values within 0 to 9. Give it new shape 3x3. Then randomly permute it."
      ],
      "metadata": {
        "id": "b5m0Kv-aIONE"
      }
    },
    {
      "cell_type": "code",
      "execution_count": null,
      "source": [
        "import numpy as np\n",
        "\n",
        "\n",
        "val = np.linspace(0, 9, 9, dtype=int) \n",
        "\n",
        "\n",
        "mat = val.reshape((3, 3)) \n",
        "\n",
        "permuted_matrix = np.random.permutation(mat)  \n",
        "\n",
        "print(\"the permuted matrix is \")\n",
        "print (permuted_matrix)\n"
      ],
      "outputs": [
        {
          "output_type": "stream",
          "name": "stdout",
          "text": [
            "the permuted matrix is \n",
            "[[6 7 9]\n",
            " [0 1 2]\n",
            " [3 4 5]]\n"
          ]
        }
      ],
      "metadata": {
        "colab": {
          "base_uri": "https://localhost:8080/"
        },
        "id": "lA-_-8aNIYWZ",
        "outputId": "b6bb42bb-9953-46ec-a37a-8ec286c69a98"
      }
    },
    {
      "cell_type": "markdown",
      "source": [
        "8. Generate random secure token of 64 bytes and random URL"
      ],
      "metadata": {
        "id": "A_qKoz0cJs56"
      }
    },
    {
      "cell_type": "code",
      "execution_count": null,
      "source": [
        "import secrets\n",
        "import string\n",
        "\n",
        "\n",
        "sec_token = secrets.token_hex(64) \n",
        "\n",
        "characters = string.ascii_letters + string.digits\n",
        "url = ''.join(secrets.choice(characters) for _ in range(64)) \n",
        "print(\"Random hexadecimal Secure Token:\", sec_token)\n",
        "print(\"Random  secure URL:\", url)\n"
      ],
      "outputs": [
        {
          "output_type": "stream",
          "name": "stdout",
          "text": [
            "Random hexadecimal Secure Token: ad3854525b504cecc9107d2f7e38848df52231b2819e7ce0afefc3060798541d2ea19a3dc507dbc975c36b6e83a665cd0e241e27415749e09bee2d55560bfd8c\n",
            "Random  secure URL: B70NZtc4XYOVbpNR22hZw0JAT6POi8hi6WoDa9TdoJjKHEqATCj3ucuorkHIxA3O\n"
          ]
        }
      ],
      "metadata": {
        "colab": {
          "base_uri": "https://localhost:8080/"
        },
        "id": "i5Yl9imaKULT",
        "outputId": "f9196c41-dd09-4d8f-ada7-c4329435ea0c"
      }
    },
    {
      "cell_type": "markdown",
      "source": [
        "9. Pick a random number from 1 to 6. Do it in such a way that every time you must get the same random output number(no hard coding numbers). do this 5 times."
      ],
      "metadata": {
        "id": "BbqxqvkAKoco"
      }
    },
    {
      "cell_type": "code",
      "execution_count": null,
      "source": [
        "import random\n",
        "\n",
        "dice = [1, 2, 3, 4, 5, 6]\n",
        "print(\"Randomly selecting same number\")\n",
        "for i in range(5):\n",
        "    random.seed(25)\n",
        "    print(random.choice(dice))"
      ],
      "outputs": [
        {
          "output_type": "stream",
          "name": "stdout",
          "text": [
            "Randomly selecting same number\n",
            "4\n",
            "4\n",
            "4\n",
            "4\n",
            "4\n"
          ]
        }
      ],
      "metadata": {
        "colab": {
          "base_uri": "https://localhost:8080/"
        },
        "id": "GLkxztDWK0ZE",
        "outputId": "b221c04e-8dbf-460e-f08e-8f08a7cb10dc"
      }
    },
    {
      "cell_type": "markdown",
      "source": [
        "10. Write an interactive Python program to play a “guess the  number” game. The computer should think of a random integer between  1 and 20 and the user (player) has to try to guess the number within six  attempts. The program should let the player know if the guess is too high or  too low. \n"
      ],
      "metadata": {
        "id": "nKU3_whrK193"
      }
    },
    {
      "cell_type": "code",
      "execution_count": null,
      "source": [
        "import random\n",
        "\n",
        "\n",
        "random_number = random.randint(1, 20)\n",
        "\n",
        "print(\"Welcome to the Guessing the Number game \")\n",
        "print(\"I'll think of a number between 1 and 20.\")\n",
        "print(\"You have 6 attempts to guess the number.\")\n",
        "\n",
        "\n",
        "for attempt in range(1, 7):\n",
        "    guess = int(input(f\"Attempt {attempt}: Enter your guess: \"))\n",
        "    \n",
        "    if guess < random_number:\n",
        "        print(\"low!\")\n",
        "    elif guess > random_number:\n",
        "        print(\"high!\")\n",
        "    else:\n",
        "        print(f\"Congratulations! You guessed the number in {attempt} attempts.\")\n",
        "        break\n",
        "\n",
        "\n",
        "if guess != random_number:\n",
        "    print(f\"Game over! The number I was thinking was {random_number}.\")\n"
      ],
      "outputs": [
        {
          "output_type": "stream",
          "name": "stdout",
          "text": [
            "Welcome to the Guessing the Number game \n",
            "I'll think of a number between 1 and 20.\n",
            "You have 6 attempts to guess the number.\n"
          ]
        }
      ],
      "metadata": {
        "colab": {
          "base_uri": "https://localhost:8080/"
        },
        "id": "ZcGQDFpSNX6r",
        "outputId": "9750ab6e-8bd2-4c43-adc8-2732c7f43294"
      }
    }
  ]
}