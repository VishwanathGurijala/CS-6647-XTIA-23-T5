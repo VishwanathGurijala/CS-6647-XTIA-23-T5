{
  "nbformat": 4,
  "nbformat_minor": 0,
  "metadata": {
    "colab": {
      "provenance": [],
      "authorship_tag": "ABX9TyNv8x84czqH9cmfLdz2hAt6",
      "include_colab_link": true
    },
    "kernelspec": {
      "name": "python3",
      "display_name": "Python 3"
    },
    "language_info": {
      "name": "python"
    }
  },
  "cells": [
    {
      "cell_type": "markdown",
      "metadata": {
        "id": "view-in-github",
        "colab_type": "text"
      },
      "source": [
        "<a href=\"https://colab.research.google.com/github/VishwanathGurijala/CS-6647-XTIA-23-T5/blob/main/Untitled9.ipynb\" target=\"_parent\"><img src=\"https://colab.research.google.com/assets/colab-badge.svg\" alt=\"Open In Colab\"/></a>"
      ]
    },
    {
      "cell_type": "markdown",
      "source": [
        "The states"
      ],
      "metadata": {
        "id": "rUQiMJwmwpbP"
      }
    },
    {
      "cell_type": "code",
      "execution_count": 7,
      "metadata": {
        "id": "p-oewqDNwmcF"
      },
      "outputs": [],
      "source": [
        "activity_state = {\n",
        "    0: 'rest',\n",
        "    1: 'sweeties',\n",
        "    2: 'exercises'\n",
        "}\n",
        "\n",
        "state = {\n",
        "    'rest': {1: 0.3, 2: 0.7},\n",
        "    'sweeties': {0: 0.5, 2: 0.5},\n",
        "    'exercises': {0: 0.4, 1: 0.6}\n",
        "}\n"
      ]
    },
    {
      "cell_type": "markdown",
      "source": [
        "The transition matrix ( for the given state diagram) is as follows:"
      ],
      "metadata": {
        "id": "Cd2aCCjvxblO"
      }
    },
    {
      "cell_type": "code",
      "source": [
        "import numpy as np\n",
        "\n",
        "transition_matrix = np.array([[0.2, 0.2, 0.6],\n",
        "                             [0.2, 0.1, 0.7],\n",
        "                             [0.1, 0.3, 0.6]])\n",
        "\n",
        "print(transition_matrix)\n"
      ],
      "metadata": {
        "colab": {
          "base_uri": "https://localhost:8080/"
        },
        "id": "lhSLDWHyxm2C",
        "outputId": "6e0e1586-1941-4b9b-b916-a5b65bb7d526"
      },
      "execution_count": 8,
      "outputs": [
        {
          "output_type": "stream",
          "name": "stdout",
          "text": [
            "[[0.2 0.2 0.6]\n",
            " [0.2 0.1 0.7]\n",
            " [0.1 0.3 0.6]]\n"
          ]
        }
      ]
    },
    {
      "cell_type": "markdown",
      "source": [
        "1.The starting state is Rest. Calculate the probability of possible activity on the 15th day.\n",
        "2.What about the state and probability after 10000 days?"
      ],
      "metadata": {
        "id": "Frzo8WZwyRpU"
      }
    },
    {
      "cell_type": "code",
      "source": [
        "import numpy as np\n",
        "\n",
        "activity_state = {\n",
        "    0: 'rest',\n",
        "    1: 'sweeties',\n",
        "    2: 'exercises'\n",
        "}\n",
        "\n",
        "transition_matrix = np.array([[0.2, 0.2, 0.6],\n",
        "                             [0.2, 0.1, 0.7],\n",
        "                             [0.1, 0.3, 0.6]])\n",
        "\n",
        "starting_state = 'rest'\n",
        "days = 15\n",
        "\n",
        "# Convert the activity state dictionary to a list of activities in the correct order\n",
        "activities = [activity_state[i] for i in sorted(activity_state.keys())]\n",
        "\n",
        "# Get the index of the starting state\n",
        "starting_index = activities.index(starting_state)\n",
        "\n",
        "# Create a vector representing the starting state probabilities\n",
        "state_vector = np.zeros(len(activity_state))\n",
        "state_vector[starting_index] = 1\n",
        "\n",
        "# Calculate the probabilities for each state after 15 days\n",
        "result_vector = np.linalg.matrix_power(transition_matrix, days) @ state_vector\n",
        "\n",
        "# Create a dictionary to store the results\n",
        "results = {activity: probability for activity, probability in zip(activities, result_vector)}\n",
        "\n",
        "# Print the probabilities of possible activities on the 15th day\n",
        "for activity, probability in results.items():\n",
        "    print(f\"The probability of being in state '{activity}' on the 15th day is {probability:.4f}.\")\n",
        "days = 10000\n",
        "\n",
        "# Calculate the probabilities for each state after 10,000 days\n",
        "probabilities = np.linalg.matrix_power(transition_matrix, days)[starting_index]\n",
        "\n",
        "# Create a dictionary to store the results\n",
        "results = {}\n",
        "for i, activity in activity_state.items():\n",
        "    results[activity] = probabilities[i]\n",
        "\n",
        "# Print the probabilities of possible activities after 10,000 days\n",
        "for activity, probability in results.items():\n",
        "    print(f\"The probability of being in state '{activity}' after 10,000 days is {probability:.4f}.\")\n"
      ],
      "metadata": {
        "colab": {
          "base_uri": "https://localhost:8080/"
        },
        "id": "zv8H9-0rzksD",
        "outputId": "03b673ad-a123-4027-918a-67ac46c8eb15"
      },
      "execution_count": 9,
      "outputs": [
        {
          "output_type": "stream",
          "name": "stdout",
          "text": [
            "The probability of being in state 'rest' on the 15th day is 0.1376.\n",
            "The probability of being in state 'sweeties' on the 15th day is 0.1376.\n",
            "The probability of being in state 'exercises' on the 15th day is 0.1376.\n",
            "The probability of being in state 'rest' after 10,000 days is 0.1376.\n",
            "The probability of being in state 'sweeties' after 10,000 days is 0.2385.\n",
            "The probability of being in state 'exercises' after 10,000 days is 0.6239.\n"
          ]
        }
      ]
    }
  ]
}